{
 "cells": [
  {
   "cell_type": "code",
   "execution_count": null,
   "id": "c74d61c8-9e0d-4543-bde2-bce606061dc2",
   "metadata": {},
   "outputs": [],
   "source": [
    "ba_data_modeling = ba_data['BA']\n",
    "ba_data_modeling['daily_returns']= ba_data_modeling['close'].pct_change()\n",
    "ba_data_modeling.head()"
   ]
  },
  {
   "cell_type": "code",
   "execution_count": null,
   "id": "f17f9e91-14d6-46b5-b061-c984966abe8d",
   "metadata": {},
   "outputs": [],
   "source": [
    "profit =[] \n",
    "for x in ba_data_modeling['daily_returns']:\n",
    "    if x > 0:\n",
    "        profit.append('gain')\n",
    "    else:\n",
    "        profit.append('loss')\n",
    "ba_data_modeling['profit']= profit\n",
    "ba_data_modeling.dropna(inplace=True)\n",
    "\n",
    "\n",
    "ba_data_modeling[\"profit\"] = ba_data_modeling[\"profit\"].apply(encodeCard)\n",
    "ba_data_modeling.head()"
   ]
  },
  {
   "cell_type": "code",
   "execution_count": null,
   "id": "c27a53b6-5a41-4d1c-a212-76f22a25198f",
   "metadata": {},
   "outputs": [],
   "source": [
    "# enc_ba = pd.get_dummies(ba_data_modeling)\n",
    "y= ba_data_modeling['profit']\n",
    "X= ba_data_modeling.drop(columns='profit')"
   ]
  },
  {
   "cell_type": "code",
   "execution_count": null,
   "id": "26824728-18f8-437a-af78-aef48b985aad",
   "metadata": {},
   "outputs": [],
   "source": [
    "X.head()"
   ]
  },
  {
   "cell_type": "code",
   "execution_count": null,
   "id": "8e6a30c4-48f2-4a8b-a2a5-2b215baf09af",
   "metadata": {},
   "outputs": [],
   "source": [
    "X_train, X_test, y_train, y_test = train_test_split(X, y, random_state=1)\n",
    "scaler = StandardScaler()\n",
    "X_scaler = scaler.fit(X_train)"
   ]
  },
  {
   "cell_type": "code",
   "execution_count": null,
   "id": "42f52c4f-e016-4d3f-9487-3da5ca4bbdce",
   "metadata": {},
   "outputs": [],
   "source": [
    "X_train_scaled = X_scaler.transform(X_train)\n",
    "X_test_scaled = X_scaler.transform(X_test)"
   ]
  },
  {
   "cell_type": "code",
   "execution_count": null,
   "id": "a24dfd7b-2c5f-4f96-844e-78e8de6e23a2",
   "metadata": {},
   "outputs": [],
   "source": [
    "\"\"\"Multi Layer for Neural Network, we will have to constantly tweek these numbers.\n",
    "For now we will use Three Layers and determine the activations as well\"\"\"\n",
    "number_inputs = 6\n",
    "number_hidden_nodes = 4\n",
    "\n",
    "neuron.add(Dense(input_dim=number_inputs, units=number_hidden_nodes, activation=\"relu\"))\n",
    "\n",
    "#Second Layer\n",
    "second_number_hidden_nodes = 6\n",
    "\n",
    "neuron.add(Dense(input_dim=number_inputs, units=second_number_hidden_nodes, activation=\"relu\"))\n",
    "\n",
    "#Third Layer\n",
    "third_number_hidden_nodes = 6\n",
    "\n",
    "neuron.add(Dense(input_dim=number_inputs, units=third_number_hidden_nodes, activation=\"relu\"))"
   ]
  },
  {
   "cell_type": "code",
   "execution_count": null,
   "id": "4cdf88af-6449-4e6d-a760-802c08b03fa6",
   "metadata": {},
   "outputs": [],
   "source": [
    "outputs = 1\n",
    "neuron.add(Dense(units=outputs, activation=\"sigmoid\"))\n",
    "neuron.summary()"
   ]
  },
  {
   "cell_type": "code",
   "execution_count": null,
   "id": "805b18a1-6320-4ebf-84d2-4f26e57d7a6f",
   "metadata": {},
   "outputs": [],
   "source": [
    "neuron.compile(loss=\"binary_crossentropy\", optimizer=\"adam\", metrics=[\"accuracy\"])"
   ]
  },
  {
   "cell_type": "code",
   "execution_count": null,
   "id": "d2261ec3-0803-4986-a968-4861c5f96bd4",
   "metadata": {},
   "outputs": [],
   "source": [
    "neuron.compile(loss=\"binary_crossentropy\", optimizer=\"adam\", metrics=[\"accuracy\"])\n",
    "model = neuron.fit(X_train_scaled, y_train, epochs=150)"
   ]
  },
  {
   "cell_type": "code",
   "execution_count": null,
   "id": "69c260c1-f04f-42b8-8862-c081e339fa04",
   "metadata": {},
   "outputs": [],
   "source": [
    "model_loss, model_accuracy = neuron.evaluate(\n",
    "    X_test_scaled, y_test, verbose=2\n",
    ")\n",
    "\n",
    "# Display the model loss and accuracy results\n",
    "print(f\"Loss: {model_loss}, Accuracy: {model_accuracy}\")"
   ]
  }
 ],
 "metadata": {
  "kernelspec": {
   "display_name": "Python 3",
   "language": "python",
   "name": "python3"
  },
  "language_info": {
   "codemirror_mode": {
    "name": "ipython",
    "version": 3
   },
   "file_extension": ".py",
   "mimetype": "text/x-python",
   "name": "python",
   "nbconvert_exporter": "python",
   "pygments_lexer": "ipython3",
   "version": "3.8.8"
  }
 },
 "nbformat": 4,
 "nbformat_minor": 5
}
